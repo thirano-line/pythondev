{
 "cells": [
  {
   "cell_type": "code",
   "execution_count": null,
   "id": "3ba202ab",
   "metadata": {},
   "outputs": [],
   "source": [
    "try:\n",
    "    a = int(input(\"割られる数を入力してください：\"))\n",
    "    b = int(input(\"割る数を入力してください：\"))\n",
    "except ValueError:\n",
    "    print(\"エラー: 数値を入力してください\")\n",
    "\n",
    "try:\n",
    "    c = a / b\n",
    "except ZeroDivisionError:\n",
    "    print(\"エラー: 0で割り算しないでください\")\n",
    "\n",
    "print(f\"{a} ÷  {b} = {c}\")\n",
    "\n",
    "print(\"処理を終了します\")"
   ]
  }
 ],
 "metadata": {
  "kernelspec": {
   "display_name": ".venv",
   "language": "python",
   "name": "python3"
  },
  "language_info": {
   "name": "python",
   "version": "3.12.10"
  }
 },
 "nbformat": 4,
 "nbformat_minor": 5
}
