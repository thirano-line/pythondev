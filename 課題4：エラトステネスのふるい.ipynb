{
 "cells": [
  {
   "cell_type": "code",
   "execution_count": null,
   "id": "ad5f3da3",
   "metadata": {},
   "outputs": [],
   "source": []
  },
  {
   "cell_type": "code",
   "execution_count": null,
   "id": "4e79091a",
   "metadata": {},
   "outputs": [],
   "source": [
    "def is_prime(value):\n",
    "    if (value == 1):\n",
    "        return False\n",
    "\n",
    "    nums = (2, 3, 5, 7)\n",
    "    for i in nums:\n",
    "        if (value % i == 0) and (value != i):\n",
    "            return False\n",
    "\n",
    "    return True\n",
    "\n",
    "for i in range(1, 101):\n",
    "    if (is_prime(i)):\n",
    "        print(i)"
   ]
  }
 ],
 "metadata": {
  "kernelspec": {
   "display_name": ".venv",
   "language": "python",
   "name": "python3"
  },
  "language_info": {
   "codemirror_mode": {
    "name": "ipython",
    "version": 3
   },
   "file_extension": ".py",
   "mimetype": "text/x-python",
   "name": "python",
   "nbconvert_exporter": "python",
   "pygments_lexer": "ipython3",
   "version": "3.12.10"
  }
 },
 "nbformat": 4,
 "nbformat_minor": 5
}
