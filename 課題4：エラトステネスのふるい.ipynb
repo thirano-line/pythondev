{
 "cells": [
  {
   "cell_type": "code",
   "execution_count": null,
   "id": "4e79091a",
   "metadata": {},
   "outputs": [],
   "source": [
    "def is_prime(value):\n",
    "    if (value == 1):\n",
    "        return False\n",
    "\n",
    "    nums = (2, 3, 5, 7)\n",
    "    for i in nums:\n",
    "        if (value % i == 0) and (value != i):\n",
    "            return False\n",
    "\n",
    "    return True\n",
    "\n",
    "for i in range(1, 100):\n",
    "    if (is_prime(i)):\n",
    "        print(i)"
   ]
  }
 ],
 "metadata": {
  "language_info": {
   "name": "python"
  }
 },
 "nbformat": 4,
 "nbformat_minor": 5
}
