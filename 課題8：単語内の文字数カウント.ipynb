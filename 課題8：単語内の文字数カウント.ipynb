{
 "cells": [
  {
   "cell_type": "code",
   "execution_count": 14,
   "id": "be4f005c",
   "metadata": {},
   "outputs": [
    {
     "name": "stdout",
     "output_type": "stream",
     "text": [
      "入力した英単語： ['bear', 'cat', 'dog', 'giraffe', 'horse', 'kangaroo']\n",
      "aが5個ありました\n",
      "bが1個ありました\n",
      "cが1個ありました\n",
      "dが1個ありました\n",
      "eが3個ありました\n",
      "fが2個ありました\n",
      "gが3個ありました\n",
      "hが1個ありました\n",
      "iが1個ありました\n",
      "kが1個ありました\n",
      "nが1個ありました\n",
      "oが4個ありました\n",
      "rが4個ありました\n",
      "sが1個ありました\n",
      "tが1個ありました\n"
     ]
    }
   ],
   "source": [
    "words = []\n",
    "alphabets = dict.fromkeys([chr(i) for i in range(97, 123)], 0)\n",
    "\n",
    "while(True):\n",
    "    word = input(\"英単語を入力してください：\")\n",
    "    if (not word):\n",
    "        break\n",
    "\n",
    "    words.append(word)\n",
    "\n",
    "joined = \"\"\n",
    "for i in words:\n",
    "    joined += i\n",
    "\n",
    "for i in joined:\n",
    "    alphabets[i] = joined.count(i)\n",
    "\n",
    "words.sort()\n",
    "print(\"入力した英単語：\", words)\n",
    "\n",
    "for k, v in alphabets.items():\n",
    "    if (not v):\n",
    "        continue\n",
    "\n",
    "    print(\"{}が{}個ありました\".format(k, v))"
   ]
  }
 ],
 "metadata": {
  "kernelspec": {
   "display_name": ".venv",
   "language": "python",
   "name": "python3"
  },
  "language_info": {
   "codemirror_mode": {
    "name": "ipython",
    "version": 3
   },
   "file_extension": ".py",
   "mimetype": "text/x-python",
   "name": "python",
   "nbconvert_exporter": "python",
   "pygments_lexer": "ipython3",
   "version": "3.12.10"
  }
 },
 "nbformat": 4,
 "nbformat_minor": 5
}
