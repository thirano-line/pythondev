{
 "cells": [
  {
   "cell_type": "code",
   "execution_count": null,
   "id": "c7c6f9ef",
   "metadata": {},
   "outputs": [],
   "source": [
    "count = 0\n",
    "score = 0\n",
    "total_score = 0\n",
    "\n",
    "while True:\n",
    "    score_str = input(\"点数を入力してください：\")\n",
    "    score = int(score_str)\n",
    "    if score == -1:\n",
    "        break\n",
    "    count += 1\n",
    "    total_score += score\n",
    "\n",
    "print(str(count) + \"人のテストの平均点は\" + str(round(float(total_score / count), 1)) + \"点です\")"
   ]
  }
 ],
 "metadata": {
  "kernelspec": {
   "display_name": ".venv",
   "language": "python",
   "name": "python3"
  },
  "language_info": {
   "codemirror_mode": {
    "name": "ipython",
    "version": 3
   },
   "file_extension": ".py",
   "mimetype": "text/x-python",
   "name": "python",
   "nbconvert_exporter": "python",
   "pygments_lexer": "ipython3",
   "version": "3.12.10"
  }
 },
 "nbformat": 4,
 "nbformat_minor": 5
}
