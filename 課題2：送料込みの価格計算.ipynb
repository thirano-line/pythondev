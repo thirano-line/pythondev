{
 "cells": [
  {
   "cell_type": "code",
   "execution_count": 7,
   "id": "487039cd",
   "metadata": {},
   "outputs": [
    {
     "name": "stdout",
     "output_type": "stream",
     "text": [
      "送料として350円かかります\n",
      "送料込みの価格は2330円です。\n"
     ]
    }
   ],
   "source": [
    "price = input(\"税抜価格を入力してください：\")\n",
    "price_including_tax = round(float(price) * 1.1)\n",
    "if (price_including_tax >= 2000):\n",
    "    print(\"送料は無料です\")\n",
    "else:\n",
    "    print(\"送料として350円かかります\")\n",
    "    price_including_tax += 350\n",
    "\n",
    "print(\"送料込みの価格は\" + str(price_including_tax) + \"円です。\")"
   ]
  }
 ],
 "metadata": {
  "kernelspec": {
   "display_name": ".venv",
   "language": "python",
   "name": "python3"
  },
  "language_info": {
   "codemirror_mode": {
    "name": "ipython",
    "version": 3
   },
   "file_extension": ".py",
   "mimetype": "text/x-python",
   "name": "python",
   "nbconvert_exporter": "python",
   "pygments_lexer": "ipython3",
   "version": "3.12.10"
  }
 },
 "nbformat": 4,
 "nbformat_minor": 5
}
